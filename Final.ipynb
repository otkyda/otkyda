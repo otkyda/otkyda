{
 "cells": [
  {
   "cell_type": "markdown",
   "id": "fd2a54f5",
   "metadata": {},
   "source": [
    "### Курсовой проект"
   ]
  },
  {
   "cell_type": "code",
   "execution_count": 36,
   "id": "e48afec7",
   "metadata": {},
   "outputs": [],
   "source": [
    "import numpy as np\n",
    "import pandas as pd"
   ]
  },
  {
   "cell_type": "markdown",
   "id": "035a82a2",
   "metadata": {},
   "source": [
    "### Загрузка датасета"
   ]
  },
  {
   "cell_type": "markdown",
   "id": "cc593187",
   "metadata": {},
   "source": [
    "https://www.kaggle.com/datasets/alexeyleshchenko/moscow-apartment-listings"
   ]
  },
  {
   "cell_type": "code",
   "execution_count": 37,
   "id": "4cdd1916",
   "metadata": {},
   "outputs": [],
   "source": [
    "moscow = pd.read_csv(r\"C:\\Users\\kutsevichoi\\Downloads\\moscow_apartment_listings.csv\")"
   ]
  },
  {
   "cell_type": "markdown",
   "id": "6fc5f8b7",
   "metadata": {},
   "source": [
    "### Оригинал описания датасета"
   ]
  },
  {
   "cell_type": "markdown",
   "id": "3196ec14",
   "metadata": {},
   "source": [
    "Moscow apartment listings w/prices\n",
    "\n",
    "Price - Listed price in Russian roubles\n",
    "\n",
    "repair - Condition: 1 - worst, 4 - best\n",
    "\n",
    "year_built_empty - \"1\" if we know the year of construction\n",
    "\n",
    "house_age - 2020 - the year of construction\n",
    "\n",
    "closest_subway - id of the closest subway station\n",
    "\n",
    "dist_to_subway - Distance to the closest subway in meters\n",
    "\n",
    "sg - Subway grade: 0 - Underground 1 - Urban rail (CMK) 2 - Suburban rail (MKD) 3 - Monorail (light rail)\n",
    "\n",
    "lat - Latitude\n",
    "\n",
    "lon - Longitude\n",
    "\n",
    "subway_dist_to_center - Distance of the closest subway to the city center in meters\n",
    "\n",
    "h3 - Uber's H3 geospatial code\n",
    "\n",
    "agent_offers - Number of listings by the same agent\n",
    "\n",
    "subway_offers - Number of listings in the vicinity of the same subway station\n",
    "\n",
    "address_offers - Number of listings at the same address\n",
    "\n",
    "rooms - Number of rooms\n",
    "\n",
    "footage - Total footage in square meters\n",
    "\n",
    "floor - The floor on which the apartment is situated\n",
    "\n",
    "max_floor - Total floors in the building\n",
    "\n",
    "first_floor - \"1\" if the apartment is on the first floor\n",
    "\n",
    "last_floor - \"1\" if the apartment is on the top floor\n",
    "\n",
    "AO - District (административный округ)\n",
    "\n",
    "hm - Material from which the building is built"
   ]
  },
  {
   "cell_type": "markdown",
   "id": "4516cbe3",
   "metadata": {},
   "source": [
    "### Перевод описания датасета"
   ]
  },
  {
   "cell_type": "markdown",
   "id": "26373454",
   "metadata": {},
   "source": [
    "Объявления о продаже квартир в Москве с ценами\n",
    "\n",
    "price - Стоимость в российских рублях\n",
    "\n",
    "repair - Состояние (ремонт) в квартире от наихудшего: 1 до лучшего: 4\n",
    "\n",
    "year_build_empty - Наличие информации о годе постройки\n",
    "\"1\", если мы знаем год постройки\n",
    "\n",
    "house_age - Возраст здания: 2020 минус год строительства здания\n",
    "\n",
    "closest_subway - Близжайшее метро, указанное через идентификатор\n",
    "\n",
    "dist_to_subway - Расстояние до ближайшего метро в метрах\n",
    "\n",
    "sg - Тип метро: 0 - Подземное 1 - Городская железная дорога (МЦК) 2 - Пригородная железная дорога (РЖД) 3 - монорельсовая дорога (Монорельс)\n",
    "\n",
    "lat - Широта\n",
    "\n",
    "lon - Долгота\n",
    "\n",
    "subway_dist_to_center - Дальность ближайшего метро до центра города в метрах\n",
    "\n",
    "h3 - Геопространственный код H3 от Uber\n",
    "\n",
    "agent_offers - Количество объявлений от одного и того же агента\n",
    "\n",
    "subway_offers - Количество объявлений в непосредственной близости от одной и той же станции метро\n",
    "\n",
    "address_offers - Количество объявлений по одному и тому же адресу\n",
    "\n",
    "rooms - Количество комнат\n",
    "\n",
    "footage - Метраж (общая площадь в квадратных метрах)\n",
    "\n",
    "floor - Этаж, на котором расположена квартира\n",
    "\n",
    "max_floor - Общее количество этажей в здании\n",
    "\n",
    "first_floor - \"1\", если квартира находится на первом этаже\n",
    "\n",
    "last_floor - \"1\", если квартира находится на верхнем этаже\n",
    "\n",
    "AO - Район (административный округ)\n",
    "\n",
    "hm - Тип здания (панельное, кирпичное, монолитное, блочное)"
   ]
  },
  {
   "cell_type": "markdown",
   "id": "7d092e00",
   "metadata": {},
   "source": [
    "### Ознакомление с содержимым датасета"
   ]
  },
  {
   "cell_type": "code",
   "execution_count": 38,
   "id": "3faf85cd",
   "metadata": {
    "scrolled": false
   },
   "outputs": [
    {
     "data": {
      "text/html": [
       "<div>\n",
       "<style scoped>\n",
       "    .dataframe tbody tr th:only-of-type {\n",
       "        vertical-align: middle;\n",
       "    }\n",
       "\n",
       "    .dataframe tbody tr th {\n",
       "        vertical-align: top;\n",
       "    }\n",
       "\n",
       "    .dataframe thead th {\n",
       "        text-align: right;\n",
       "    }\n",
       "</style>\n",
       "<table border=\"1\" class=\"dataframe\">\n",
       "  <thead>\n",
       "    <tr style=\"text-align: right;\">\n",
       "      <th></th>\n",
       "      <th>price</th>\n",
       "      <th>repair</th>\n",
       "      <th>year_built_empty</th>\n",
       "      <th>house_age</th>\n",
       "      <th>closest_subway</th>\n",
       "      <th>dist_to_subway</th>\n",
       "      <th>sg</th>\n",
       "      <th>lat</th>\n",
       "      <th>lon</th>\n",
       "      <th>subway_dist_to_center</th>\n",
       "      <th>...</th>\n",
       "      <th>subway_offers</th>\n",
       "      <th>address_offers</th>\n",
       "      <th>rooms</th>\n",
       "      <th>footage</th>\n",
       "      <th>floor</th>\n",
       "      <th>max_floor</th>\n",
       "      <th>first_floor</th>\n",
       "      <th>last_floor</th>\n",
       "      <th>AO</th>\n",
       "      <th>hm</th>\n",
       "    </tr>\n",
       "  </thead>\n",
       "  <tbody>\n",
       "    <tr>\n",
       "      <th>0</th>\n",
       "      <td>8000000</td>\n",
       "      <td>3</td>\n",
       "      <td>0</td>\n",
       "      <td>42</td>\n",
       "      <td>59</td>\n",
       "      <td>960</td>\n",
       "      <td>0.0</td>\n",
       "      <td>55.609009</td>\n",
       "      <td>37.734632</td>\n",
       "      <td>17166</td>\n",
       "      <td>...</td>\n",
       "      <td>5</td>\n",
       "      <td>1.0</td>\n",
       "      <td>1</td>\n",
       "      <td>39.4</td>\n",
       "      <td>11</td>\n",
       "      <td>12</td>\n",
       "      <td>0</td>\n",
       "      <td>0</td>\n",
       "      <td>UAO</td>\n",
       "      <td>panel</td>\n",
       "    </tr>\n",
       "    <tr>\n",
       "      <th>1</th>\n",
       "      <td>7200000</td>\n",
       "      <td>2</td>\n",
       "      <td>0</td>\n",
       "      <td>43</td>\n",
       "      <td>59</td>\n",
       "      <td>802</td>\n",
       "      <td>0.0</td>\n",
       "      <td>55.608760</td>\n",
       "      <td>37.741936</td>\n",
       "      <td>17166</td>\n",
       "      <td>...</td>\n",
       "      <td>9</td>\n",
       "      <td>1.0</td>\n",
       "      <td>1</td>\n",
       "      <td>35.6</td>\n",
       "      <td>2</td>\n",
       "      <td>9</td>\n",
       "      <td>0</td>\n",
       "      <td>0</td>\n",
       "      <td>UAO</td>\n",
       "      <td>panel</td>\n",
       "    </tr>\n",
       "    <tr>\n",
       "      <th>2</th>\n",
       "      <td>10300000</td>\n",
       "      <td>2</td>\n",
       "      <td>0</td>\n",
       "      <td>43</td>\n",
       "      <td>59</td>\n",
       "      <td>638</td>\n",
       "      <td>0.0</td>\n",
       "      <td>55.610207</td>\n",
       "      <td>37.742495</td>\n",
       "      <td>17166</td>\n",
       "      <td>...</td>\n",
       "      <td>9</td>\n",
       "      <td>2.0</td>\n",
       "      <td>2</td>\n",
       "      <td>53.0</td>\n",
       "      <td>5</td>\n",
       "      <td>12</td>\n",
       "      <td>0</td>\n",
       "      <td>0</td>\n",
       "      <td>UAO</td>\n",
       "      <td>panel</td>\n",
       "    </tr>\n",
       "    <tr>\n",
       "      <th>3</th>\n",
       "      <td>8500000</td>\n",
       "      <td>2</td>\n",
       "      <td>0</td>\n",
       "      <td>43</td>\n",
       "      <td>59</td>\n",
       "      <td>929</td>\n",
       "      <td>0.0</td>\n",
       "      <td>55.624017</td>\n",
       "      <td>37.740373</td>\n",
       "      <td>17166</td>\n",
       "      <td>...</td>\n",
       "      <td>5</td>\n",
       "      <td>1.0</td>\n",
       "      <td>2</td>\n",
       "      <td>44.1</td>\n",
       "      <td>8</td>\n",
       "      <td>9</td>\n",
       "      <td>0</td>\n",
       "      <td>0</td>\n",
       "      <td>UAO</td>\n",
       "      <td>panel</td>\n",
       "    </tr>\n",
       "    <tr>\n",
       "      <th>4</th>\n",
       "      <td>9000000</td>\n",
       "      <td>2</td>\n",
       "      <td>0</td>\n",
       "      <td>43</td>\n",
       "      <td>59</td>\n",
       "      <td>785</td>\n",
       "      <td>0.0</td>\n",
       "      <td>55.609107</td>\n",
       "      <td>37.740430</td>\n",
       "      <td>17166</td>\n",
       "      <td>...</td>\n",
       "      <td>5</td>\n",
       "      <td>1.0</td>\n",
       "      <td>2</td>\n",
       "      <td>44.2</td>\n",
       "      <td>6</td>\n",
       "      <td>9</td>\n",
       "      <td>0</td>\n",
       "      <td>0</td>\n",
       "      <td>UAO</td>\n",
       "      <td>panel</td>\n",
       "    </tr>\n",
       "  </tbody>\n",
       "</table>\n",
       "<p>5 rows × 22 columns</p>\n",
       "</div>"
      ],
      "text/plain": [
       "      price  repair  year_built_empty  house_age  closest_subway  \\\n",
       "0   8000000       3                 0         42              59   \n",
       "1   7200000       2                 0         43              59   \n",
       "2  10300000       2                 0         43              59   \n",
       "3   8500000       2                 0         43              59   \n",
       "4   9000000       2                 0         43              59   \n",
       "\n",
       "   dist_to_subway   sg        lat        lon  subway_dist_to_center  ...  \\\n",
       "0             960  0.0  55.609009  37.734632                  17166  ...   \n",
       "1             802  0.0  55.608760  37.741936                  17166  ...   \n",
       "2             638  0.0  55.610207  37.742495                  17166  ...   \n",
       "3             929  0.0  55.624017  37.740373                  17166  ...   \n",
       "4             785  0.0  55.609107  37.740430                  17166  ...   \n",
       "\n",
       "  subway_offers  address_offers  rooms  footage  floor  max_floor  \\\n",
       "0             5             1.0      1     39.4     11         12   \n",
       "1             9             1.0      1     35.6      2          9   \n",
       "2             9             2.0      2     53.0      5         12   \n",
       "3             5             1.0      2     44.1      8          9   \n",
       "4             5             1.0      2     44.2      6          9   \n",
       "\n",
       "   first_floor  last_floor   AO     hm  \n",
       "0            0           0  UAO  panel  \n",
       "1            0           0  UAO  panel  \n",
       "2            0           0  UAO  panel  \n",
       "3            0           0  UAO  panel  \n",
       "4            0           0  UAO  panel  \n",
       "\n",
       "[5 rows x 22 columns]"
      ]
     },
     "execution_count": 38,
     "metadata": {},
     "output_type": "execute_result"
    }
   ],
   "source": [
    "moscow.head()"
   ]
  },
  {
   "cell_type": "code",
   "execution_count": 39,
   "id": "76dfcabd",
   "metadata": {},
   "outputs": [
    {
     "data": {
      "text/plain": [
       "(12181, 22)"
      ]
     },
     "execution_count": 39,
     "metadata": {},
     "output_type": "execute_result"
    }
   ],
   "source": [
    "moscow.shape"
   ]
  },
  {
   "cell_type": "code",
   "execution_count": 40,
   "id": "0d0696de",
   "metadata": {},
   "outputs": [
    {
     "name": "stdout",
     "output_type": "stream",
     "text": [
      "<class 'pandas.core.frame.DataFrame'>\n",
      "RangeIndex: 12181 entries, 0 to 12180\n",
      "Data columns (total 22 columns):\n",
      " #   Column                 Non-Null Count  Dtype  \n",
      "---  ------                 --------------  -----  \n",
      " 0   price                  12181 non-null  int64  \n",
      " 1   repair                 12181 non-null  int64  \n",
      " 2   year_built_empty       12181 non-null  int64  \n",
      " 3   house_age              12181 non-null  int64  \n",
      " 4   closest_subway         12181 non-null  int64  \n",
      " 5   dist_to_subway         12181 non-null  int64  \n",
      " 6   sg                     12181 non-null  float64\n",
      " 7   lat                    12181 non-null  float64\n",
      " 8   lon                    12181 non-null  float64\n",
      " 9   subway_dist_to_center  12181 non-null  int64  \n",
      " 10  h3                     12181 non-null  object \n",
      " 11  agent_offers           12181 non-null  int64  \n",
      " 12  subway_offers          12181 non-null  int64  \n",
      " 13  address_offers         12181 non-null  float64\n",
      " 14  rooms                  12181 non-null  int64  \n",
      " 15  footage                12181 non-null  float64\n",
      " 16  floor                  12181 non-null  int64  \n",
      " 17  max_floor              12181 non-null  int64  \n",
      " 18  first_floor            12181 non-null  int64  \n",
      " 19  last_floor             12181 non-null  int64  \n",
      " 20  AO                     12181 non-null  object \n",
      " 21  hm                     12181 non-null  object \n",
      "dtypes: float64(5), int64(14), object(3)\n",
      "memory usage: 2.0+ MB\n"
     ]
    }
   ],
   "source": [
    "moscow.info()"
   ]
  },
  {
   "cell_type": "markdown",
   "id": "fb22aa35",
   "metadata": {},
   "source": [
    "### Изменение типа переменных в датасете"
   ]
  },
  {
   "cell_type": "code",
   "execution_count": 41,
   "id": "437ca55e",
   "metadata": {},
   "outputs": [],
   "source": [
    "moscow['repair'] = moscow['repair'].astype(str)\n",
    "moscow['year_built_empty'] = moscow['year_built_empty'].astype(bool)\n",
    "moscow['closest_subway'] = moscow['closest_subway'].astype(str)\n",
    "moscow['sg'] = moscow['sg'].astype(str)\n",
    "moscow['lat'] = moscow['lat'].astype(str)\n",
    "moscow['lon'] = moscow['lon'].astype(str)\n",
    "moscow['first_floor'] = moscow['first_floor'].astype(bool)\n",
    "moscow['last_floor'] = moscow['last_floor'].astype(bool)"
   ]
  },
  {
   "cell_type": "code",
   "execution_count": 42,
   "id": "a07a37fd",
   "metadata": {},
   "outputs": [
    {
     "name": "stdout",
     "output_type": "stream",
     "text": [
      "<class 'pandas.core.frame.DataFrame'>\n",
      "RangeIndex: 12181 entries, 0 to 12180\n",
      "Data columns (total 22 columns):\n",
      " #   Column                 Non-Null Count  Dtype  \n",
      "---  ------                 --------------  -----  \n",
      " 0   price                  12181 non-null  int64  \n",
      " 1   repair                 12181 non-null  object \n",
      " 2   year_built_empty       12181 non-null  bool   \n",
      " 3   house_age              12181 non-null  int64  \n",
      " 4   closest_subway         12181 non-null  object \n",
      " 5   dist_to_subway         12181 non-null  int64  \n",
      " 6   sg                     12181 non-null  object \n",
      " 7   lat                    12181 non-null  object \n",
      " 8   lon                    12181 non-null  object \n",
      " 9   subway_dist_to_center  12181 non-null  int64  \n",
      " 10  h3                     12181 non-null  object \n",
      " 11  agent_offers           12181 non-null  int64  \n",
      " 12  subway_offers          12181 non-null  int64  \n",
      " 13  address_offers         12181 non-null  float64\n",
      " 14  rooms                  12181 non-null  int64  \n",
      " 15  footage                12181 non-null  float64\n",
      " 16  floor                  12181 non-null  int64  \n",
      " 17  max_floor              12181 non-null  int64  \n",
      " 18  first_floor            12181 non-null  bool   \n",
      " 19  last_floor             12181 non-null  bool   \n",
      " 20  AO                     12181 non-null  object \n",
      " 21  hm                     12181 non-null  object \n",
      "dtypes: bool(3), float64(2), int64(9), object(8)\n",
      "memory usage: 1.8+ MB\n"
     ]
    }
   ],
   "source": [
    "moscow.info()"
   ]
  },
  {
   "cell_type": "markdown",
   "id": "1a9c36a2",
   "metadata": {},
   "source": [
    "### Задание целевого параметра модели"
   ]
  },
  {
   "cell_type": "code",
   "execution_count": 43,
   "id": "ec73a87b",
   "metadata": {},
   "outputs": [
    {
     "data": {
      "text/plain": [
       "0     8000000\n",
       "1     7200000\n",
       "2    10300000\n",
       "3     8500000\n",
       "4     9000000\n",
       "Name: price, dtype: int64"
      ]
     },
     "execution_count": 43,
     "metadata": {},
     "output_type": "execute_result"
    }
   ],
   "source": [
    "y = moscow.price\n",
    "y.head()"
   ]
  },
  {
   "cell_type": "markdown",
   "id": "20670452",
   "metadata": {},
   "source": [
    "### Задание массива данных для построения модели"
   ]
  },
  {
   "cell_type": "code",
   "execution_count": 44,
   "id": "a8acbcd0",
   "metadata": {},
   "outputs": [
    {
     "data": {
      "text/html": [
       "<div>\n",
       "<style scoped>\n",
       "    .dataframe tbody tr th:only-of-type {\n",
       "        vertical-align: middle;\n",
       "    }\n",
       "\n",
       "    .dataframe tbody tr th {\n",
       "        vertical-align: top;\n",
       "    }\n",
       "\n",
       "    .dataframe thead th {\n",
       "        text-align: right;\n",
       "    }\n",
       "</style>\n",
       "<table border=\"1\" class=\"dataframe\">\n",
       "  <thead>\n",
       "    <tr style=\"text-align: right;\">\n",
       "      <th></th>\n",
       "      <th>repair</th>\n",
       "      <th>year_built_empty</th>\n",
       "      <th>house_age</th>\n",
       "      <th>closest_subway</th>\n",
       "      <th>dist_to_subway</th>\n",
       "      <th>sg</th>\n",
       "      <th>lat</th>\n",
       "      <th>lon</th>\n",
       "      <th>subway_dist_to_center</th>\n",
       "      <th>h3</th>\n",
       "      <th>...</th>\n",
       "      <th>subway_offers</th>\n",
       "      <th>address_offers</th>\n",
       "      <th>rooms</th>\n",
       "      <th>footage</th>\n",
       "      <th>floor</th>\n",
       "      <th>max_floor</th>\n",
       "      <th>first_floor</th>\n",
       "      <th>last_floor</th>\n",
       "      <th>AO</th>\n",
       "      <th>hm</th>\n",
       "    </tr>\n",
       "  </thead>\n",
       "  <tbody>\n",
       "    <tr>\n",
       "      <th>0</th>\n",
       "      <td>3</td>\n",
       "      <td>False</td>\n",
       "      <td>42</td>\n",
       "      <td>59</td>\n",
       "      <td>960</td>\n",
       "      <td>0.0</td>\n",
       "      <td>55.60900899999999</td>\n",
       "      <td>37.734632</td>\n",
       "      <td>17166</td>\n",
       "      <td>861181b6fffffff</td>\n",
       "      <td>...</td>\n",
       "      <td>5</td>\n",
       "      <td>1.0</td>\n",
       "      <td>1</td>\n",
       "      <td>39.4</td>\n",
       "      <td>11</td>\n",
       "      <td>12</td>\n",
       "      <td>False</td>\n",
       "      <td>False</td>\n",
       "      <td>UAO</td>\n",
       "      <td>panel</td>\n",
       "    </tr>\n",
       "    <tr>\n",
       "      <th>1</th>\n",
       "      <td>2</td>\n",
       "      <td>False</td>\n",
       "      <td>43</td>\n",
       "      <td>59</td>\n",
       "      <td>802</td>\n",
       "      <td>0.0</td>\n",
       "      <td>55.60876</td>\n",
       "      <td>37.741936</td>\n",
       "      <td>17166</td>\n",
       "      <td>861181b4fffffff</td>\n",
       "      <td>...</td>\n",
       "      <td>9</td>\n",
       "      <td>1.0</td>\n",
       "      <td>1</td>\n",
       "      <td>35.6</td>\n",
       "      <td>2</td>\n",
       "      <td>9</td>\n",
       "      <td>False</td>\n",
       "      <td>False</td>\n",
       "      <td>UAO</td>\n",
       "      <td>panel</td>\n",
       "    </tr>\n",
       "    <tr>\n",
       "      <th>2</th>\n",
       "      <td>2</td>\n",
       "      <td>False</td>\n",
       "      <td>43</td>\n",
       "      <td>59</td>\n",
       "      <td>638</td>\n",
       "      <td>0.0</td>\n",
       "      <td>55.6102066</td>\n",
       "      <td>37.7424953</td>\n",
       "      <td>17166</td>\n",
       "      <td>861181b4fffffff</td>\n",
       "      <td>...</td>\n",
       "      <td>9</td>\n",
       "      <td>2.0</td>\n",
       "      <td>2</td>\n",
       "      <td>53.0</td>\n",
       "      <td>5</td>\n",
       "      <td>12</td>\n",
       "      <td>False</td>\n",
       "      <td>False</td>\n",
       "      <td>UAO</td>\n",
       "      <td>panel</td>\n",
       "    </tr>\n",
       "    <tr>\n",
       "      <th>3</th>\n",
       "      <td>2</td>\n",
       "      <td>False</td>\n",
       "      <td>43</td>\n",
       "      <td>59</td>\n",
       "      <td>929</td>\n",
       "      <td>0.0</td>\n",
       "      <td>55.6240169</td>\n",
       "      <td>37.7403735</td>\n",
       "      <td>17166</td>\n",
       "      <td>861181b6fffffff</td>\n",
       "      <td>...</td>\n",
       "      <td>5</td>\n",
       "      <td>1.0</td>\n",
       "      <td>2</td>\n",
       "      <td>44.1</td>\n",
       "      <td>8</td>\n",
       "      <td>9</td>\n",
       "      <td>False</td>\n",
       "      <td>False</td>\n",
       "      <td>UAO</td>\n",
       "      <td>panel</td>\n",
       "    </tr>\n",
       "    <tr>\n",
       "      <th>4</th>\n",
       "      <td>2</td>\n",
       "      <td>False</td>\n",
       "      <td>43</td>\n",
       "      <td>59</td>\n",
       "      <td>785</td>\n",
       "      <td>0.0</td>\n",
       "      <td>55.6091073</td>\n",
       "      <td>37.74043</td>\n",
       "      <td>17166</td>\n",
       "      <td>861181b4fffffff</td>\n",
       "      <td>...</td>\n",
       "      <td>5</td>\n",
       "      <td>1.0</td>\n",
       "      <td>2</td>\n",
       "      <td>44.2</td>\n",
       "      <td>6</td>\n",
       "      <td>9</td>\n",
       "      <td>False</td>\n",
       "      <td>False</td>\n",
       "      <td>UAO</td>\n",
       "      <td>panel</td>\n",
       "    </tr>\n",
       "  </tbody>\n",
       "</table>\n",
       "<p>5 rows × 21 columns</p>\n",
       "</div>"
      ],
      "text/plain": [
       "  repair  year_built_empty  house_age closest_subway  dist_to_subway   sg  \\\n",
       "0      3             False         42             59             960  0.0   \n",
       "1      2             False         43             59             802  0.0   \n",
       "2      2             False         43             59             638  0.0   \n",
       "3      2             False         43             59             929  0.0   \n",
       "4      2             False         43             59             785  0.0   \n",
       "\n",
       "                 lat         lon  subway_dist_to_center               h3  ...  \\\n",
       "0  55.60900899999999   37.734632                  17166  861181b6fffffff  ...   \n",
       "1           55.60876   37.741936                  17166  861181b4fffffff  ...   \n",
       "2         55.6102066  37.7424953                  17166  861181b4fffffff  ...   \n",
       "3         55.6240169  37.7403735                  17166  861181b6fffffff  ...   \n",
       "4         55.6091073    37.74043                  17166  861181b4fffffff  ...   \n",
       "\n",
       "   subway_offers  address_offers  rooms  footage  floor  max_floor  \\\n",
       "0              5             1.0      1     39.4     11         12   \n",
       "1              9             1.0      1     35.6      2          9   \n",
       "2              9             2.0      2     53.0      5         12   \n",
       "3              5             1.0      2     44.1      8          9   \n",
       "4              5             1.0      2     44.2      6          9   \n",
       "\n",
       "   first_floor  last_floor   AO     hm  \n",
       "0        False       False  UAO  panel  \n",
       "1        False       False  UAO  panel  \n",
       "2        False       False  UAO  panel  \n",
       "3        False       False  UAO  panel  \n",
       "4        False       False  UAO  panel  \n",
       "\n",
       "[5 rows x 21 columns]"
      ]
     },
     "execution_count": 44,
     "metadata": {},
     "output_type": "execute_result"
    }
   ],
   "source": [
    "X = moscow.drop(columns='price')\n",
    "X.head()"
   ]
  },
  {
   "cell_type": "code",
   "execution_count": 45,
   "id": "5514653a",
   "metadata": {},
   "outputs": [
    {
     "name": "stdout",
     "output_type": "stream",
     "text": [
      "<class 'pandas.core.frame.DataFrame'>\n",
      "RangeIndex: 12181 entries, 0 to 12180\n",
      "Data columns (total 21 columns):\n",
      " #   Column                 Non-Null Count  Dtype  \n",
      "---  ------                 --------------  -----  \n",
      " 0   repair                 12181 non-null  object \n",
      " 1   year_built_empty       12181 non-null  bool   \n",
      " 2   house_age              12181 non-null  int64  \n",
      " 3   closest_subway         12181 non-null  object \n",
      " 4   dist_to_subway         12181 non-null  int64  \n",
      " 5   sg                     12181 non-null  object \n",
      " 6   lat                    12181 non-null  object \n",
      " 7   lon                    12181 non-null  object \n",
      " 8   subway_dist_to_center  12181 non-null  int64  \n",
      " 9   h3                     12181 non-null  object \n",
      " 10  agent_offers           12181 non-null  int64  \n",
      " 11  subway_offers          12181 non-null  int64  \n",
      " 12  address_offers         12181 non-null  float64\n",
      " 13  rooms                  12181 non-null  int64  \n",
      " 14  footage                12181 non-null  float64\n",
      " 15  floor                  12181 non-null  int64  \n",
      " 16  max_floor              12181 non-null  int64  \n",
      " 17  first_floor            12181 non-null  bool   \n",
      " 18  last_floor             12181 non-null  bool   \n",
      " 19  AO                     12181 non-null  object \n",
      " 20  hm                     12181 non-null  object \n",
      "dtypes: bool(3), float64(2), int64(8), object(8)\n",
      "memory usage: 1.7+ MB\n"
     ]
    }
   ],
   "source": [
    "X.info()"
   ]
  },
  {
   "cell_type": "markdown",
   "id": "99b68994",
   "metadata": {},
   "source": [
    "### Загрузка шаблона с модулями"
   ]
  },
  {
   "cell_type": "code",
   "execution_count": 46,
   "id": "803d8e19",
   "metadata": {},
   "outputs": [],
   "source": [
    "import numpy as np\n",
    "import pandas as pd\n",
    "import random\n",
    "import pickle\n",
    "\n",
    "from sklearn.model_selection import train_test_split, cross_val_score\n",
    "from sklearn.preprocessing import StandardScaler, RobustScaler\n",
    "from sklearn.ensemble import RandomForestRegressor\n",
    "from sklearn.metrics import r2_score as r2\n",
    "from sklearn.model_selection import KFold, GridSearchCV\n",
    "\n",
    "from datetime import datetime\n",
    "\n",
    "import matplotlib\n",
    "import matplotlib.pyplot as plt\n",
    "import seaborn as sns\n",
    "%matplotlib inline"
   ]
  },
  {
   "cell_type": "code",
   "execution_count": 47,
   "id": "b728ba4f",
   "metadata": {},
   "outputs": [],
   "source": [
    "import warnings\n",
    "warnings.filterwarnings('ignore')"
   ]
  },
  {
   "cell_type": "code",
   "execution_count": 48,
   "id": "c82c75d7",
   "metadata": {},
   "outputs": [],
   "source": [
    "matplotlib.rcParams.update({'font.size': 14})"
   ]
  },
  {
   "cell_type": "markdown",
   "id": "7cbb38ad",
   "metadata": {},
   "source": [
    "### Создание функции вывода результатов работы модели в виде графиков"
   ]
  },
  {
   "cell_type": "code",
   "execution_count": 49,
   "id": "de7ce94b",
   "metadata": {},
   "outputs": [],
   "source": [
    "def evaluate_preds(train_true_values, train_pred_values, test_true_values, test_pred_values):\n",
    "    print(\"Train R2:\\t\" + str(round(r2(train_true_values, train_pred_values), 3)))\n",
    "    print(\"Test R2:\\t\" + str(round(r2(test_true_values, test_pred_values), 3)))\n",
    "    \n",
    "    plt.figure(figsize=(18,10))\n",
    "    \n",
    "    plt.subplot(121)\n",
    "    sns.scatterplot(x=train_pred_values, y=train_true_values)\n",
    "    plt.xlabel('Predicted values')\n",
    "    plt.ylabel('True values')\n",
    "    plt.title('Train sample prediction')\n",
    "    \n",
    "    plt.subplot(122)\n",
    "    sns.scatterplot(x=test_pred_values, y=test_true_values)\n",
    "    plt.xlabel('Predicted values')\n",
    "    plt.ylabel('True values')\n",
    "    plt.title('Test sample prediction')\n",
    "\n",
    "    plt.show()"
   ]
  },
  {
   "cell_type": "markdown",
   "id": "58566196",
   "metadata": {},
   "source": [
    "### Разбиение датасета на тренировочный и тестовый"
   ]
  },
  {
   "cell_type": "code",
   "execution_count": 50,
   "id": "7c488120",
   "metadata": {},
   "outputs": [],
   "source": [
    "X_train, X_test, y_train, y_test = train_test_split(X, y, test_size=0.20, random_state=42)"
   ]
  },
  {
   "cell_type": "code",
   "execution_count": 51,
   "id": "8db4d4af",
   "metadata": {},
   "outputs": [
    {
     "data": {
      "text/plain": [
       "(9744, 21)"
      ]
     },
     "execution_count": 51,
     "metadata": {},
     "output_type": "execute_result"
    }
   ],
   "source": [
    "X_train.shape"
   ]
  },
  {
   "cell_type": "code",
   "execution_count": 52,
   "id": "426c6005",
   "metadata": {},
   "outputs": [
    {
     "data": {
      "text/plain": [
       "(2437, 21)"
      ]
     },
     "execution_count": 52,
     "metadata": {},
     "output_type": "execute_result"
    }
   ],
   "source": [
    "X_test.shape"
   ]
  },
  {
   "cell_type": "code",
   "execution_count": 53,
   "id": "d48b1a43",
   "metadata": {},
   "outputs": [
    {
     "data": {
      "text/plain": [
       "(9744,)"
      ]
     },
     "execution_count": 53,
     "metadata": {},
     "output_type": "execute_result"
    }
   ],
   "source": [
    "y_train.shape"
   ]
  },
  {
   "cell_type": "code",
   "execution_count": 54,
   "id": "559b6b02",
   "metadata": {},
   "outputs": [
    {
     "data": {
      "text/plain": [
       "(2437,)"
      ]
     },
     "execution_count": 54,
     "metadata": {},
     "output_type": "execute_result"
    }
   ],
   "source": [
    "y_test.shape"
   ]
  },
  {
   "cell_type": "code",
   "execution_count": 55,
   "id": "36c89994",
   "metadata": {},
   "outputs": [
    {
     "data": {
      "text/html": [
       "<div>\n",
       "<style scoped>\n",
       "    .dataframe tbody tr th:only-of-type {\n",
       "        vertical-align: middle;\n",
       "    }\n",
       "\n",
       "    .dataframe tbody tr th {\n",
       "        vertical-align: top;\n",
       "    }\n",
       "\n",
       "    .dataframe thead th {\n",
       "        text-align: right;\n",
       "    }\n",
       "</style>\n",
       "<table border=\"1\" class=\"dataframe\">\n",
       "  <thead>\n",
       "    <tr style=\"text-align: right;\">\n",
       "      <th></th>\n",
       "      <th>repair</th>\n",
       "      <th>year_built_empty</th>\n",
       "      <th>house_age</th>\n",
       "      <th>closest_subway</th>\n",
       "      <th>dist_to_subway</th>\n",
       "      <th>sg</th>\n",
       "      <th>lat</th>\n",
       "      <th>lon</th>\n",
       "      <th>subway_dist_to_center</th>\n",
       "      <th>h3</th>\n",
       "      <th>...</th>\n",
       "      <th>subway_offers</th>\n",
       "      <th>address_offers</th>\n",
       "      <th>rooms</th>\n",
       "      <th>footage</th>\n",
       "      <th>floor</th>\n",
       "      <th>max_floor</th>\n",
       "      <th>first_floor</th>\n",
       "      <th>last_floor</th>\n",
       "      <th>AO</th>\n",
       "      <th>hm</th>\n",
       "    </tr>\n",
       "  </thead>\n",
       "  <tbody>\n",
       "    <tr>\n",
       "      <th>3447</th>\n",
       "      <td>2</td>\n",
       "      <td>False</td>\n",
       "      <td>58</td>\n",
       "      <td>139</td>\n",
       "      <td>1078</td>\n",
       "      <td>0.0</td>\n",
       "      <td>55.67466700000001</td>\n",
       "      <td>37.487713</td>\n",
       "      <td>10917</td>\n",
       "      <td>8611aa7b7ffffff</td>\n",
       "      <td>...</td>\n",
       "      <td>7</td>\n",
       "      <td>1.0</td>\n",
       "      <td>2</td>\n",
       "      <td>46.0</td>\n",
       "      <td>1</td>\n",
       "      <td>5</td>\n",
       "      <td>True</td>\n",
       "      <td>False</td>\n",
       "      <td>ZAO</td>\n",
       "      <td>panel</td>\n",
       "    </tr>\n",
       "    <tr>\n",
       "      <th>5042</th>\n",
       "      <td>3</td>\n",
       "      <td>False</td>\n",
       "      <td>43</td>\n",
       "      <td>16</td>\n",
       "      <td>1794</td>\n",
       "      <td>0.0</td>\n",
       "      <td>55.859302</td>\n",
       "      <td>37.504942</td>\n",
       "      <td>14800</td>\n",
       "      <td>8611aa707ffffff</td>\n",
       "      <td>...</td>\n",
       "      <td>8</td>\n",
       "      <td>1.0</td>\n",
       "      <td>2</td>\n",
       "      <td>58.0</td>\n",
       "      <td>2</td>\n",
       "      <td>17</td>\n",
       "      <td>False</td>\n",
       "      <td>False</td>\n",
       "      <td>SAO</td>\n",
       "      <td>panel</td>\n",
       "    </tr>\n",
       "    <tr>\n",
       "      <th>467</th>\n",
       "      <td>2</td>\n",
       "      <td>False</td>\n",
       "      <td>46</td>\n",
       "      <td>158</td>\n",
       "      <td>882</td>\n",
       "      <td>1.0</td>\n",
       "      <td>55.763933</td>\n",
       "      <td>37.736195</td>\n",
       "      <td>8355</td>\n",
       "      <td>8611aa617ffffff</td>\n",
       "      <td>...</td>\n",
       "      <td>4</td>\n",
       "      <td>1.0</td>\n",
       "      <td>1</td>\n",
       "      <td>37.5</td>\n",
       "      <td>5</td>\n",
       "      <td>14</td>\n",
       "      <td>False</td>\n",
       "      <td>False</td>\n",
       "      <td>VAO</td>\n",
       "      <td>brick</td>\n",
       "    </tr>\n",
       "    <tr>\n",
       "      <th>6380</th>\n",
       "      <td>2</td>\n",
       "      <td>False</td>\n",
       "      <td>50</td>\n",
       "      <td>122</td>\n",
       "      <td>1230</td>\n",
       "      <td>0.0</td>\n",
       "      <td>55.790825</td>\n",
       "      <td>37.47907</td>\n",
       "      <td>8949</td>\n",
       "      <td>8611aa717ffffff</td>\n",
       "      <td>...</td>\n",
       "      <td>6</td>\n",
       "      <td>1.0</td>\n",
       "      <td>1</td>\n",
       "      <td>34.0</td>\n",
       "      <td>8</td>\n",
       "      <td>9</td>\n",
       "      <td>False</td>\n",
       "      <td>False</td>\n",
       "      <td>SZAO</td>\n",
       "      <td>brick</td>\n",
       "    </tr>\n",
       "    <tr>\n",
       "      <th>8066</th>\n",
       "      <td>4</td>\n",
       "      <td>False</td>\n",
       "      <td>51</td>\n",
       "      <td>151</td>\n",
       "      <td>1026</td>\n",
       "      <td>0.0</td>\n",
       "      <td>55.861105</td>\n",
       "      <td>37.64024600000001</td>\n",
       "      <td>11734</td>\n",
       "      <td>8611aa627ffffff</td>\n",
       "      <td>...</td>\n",
       "      <td>9</td>\n",
       "      <td>1.0</td>\n",
       "      <td>1</td>\n",
       "      <td>36.0</td>\n",
       "      <td>12</td>\n",
       "      <td>12</td>\n",
       "      <td>False</td>\n",
       "      <td>True</td>\n",
       "      <td>SVAO</td>\n",
       "      <td>block</td>\n",
       "    </tr>\n",
       "  </tbody>\n",
       "</table>\n",
       "<p>5 rows × 21 columns</p>\n",
       "</div>"
      ],
      "text/plain": [
       "     repair  year_built_empty  house_age closest_subway  dist_to_subway   sg  \\\n",
       "3447      2             False         58            139            1078  0.0   \n",
       "5042      3             False         43             16            1794  0.0   \n",
       "467       2             False         46            158             882  1.0   \n",
       "6380      2             False         50            122            1230  0.0   \n",
       "8066      4             False         51            151            1026  0.0   \n",
       "\n",
       "                    lat                lon  subway_dist_to_center  \\\n",
       "3447  55.67466700000001          37.487713                  10917   \n",
       "5042          55.859302          37.504942                  14800   \n",
       "467           55.763933          37.736195                   8355   \n",
       "6380          55.790825           37.47907                   8949   \n",
       "8066          55.861105  37.64024600000001                  11734   \n",
       "\n",
       "                   h3  ...  subway_offers  address_offers  rooms  footage  \\\n",
       "3447  8611aa7b7ffffff  ...              7             1.0      2     46.0   \n",
       "5042  8611aa707ffffff  ...              8             1.0      2     58.0   \n",
       "467   8611aa617ffffff  ...              4             1.0      1     37.5   \n",
       "6380  8611aa717ffffff  ...              6             1.0      1     34.0   \n",
       "8066  8611aa627ffffff  ...              9             1.0      1     36.0   \n",
       "\n",
       "      floor  max_floor  first_floor  last_floor    AO     hm  \n",
       "3447      1          5         True       False   ZAO  panel  \n",
       "5042      2         17        False       False   SAO  panel  \n",
       "467       5         14        False       False   VAO  brick  \n",
       "6380      8          9        False       False  SZAO  brick  \n",
       "8066     12         12        False        True  SVAO  block  \n",
       "\n",
       "[5 rows x 21 columns]"
      ]
     },
     "execution_count": 55,
     "metadata": {},
     "output_type": "execute_result"
    }
   ],
   "source": [
    "X_test.tail(5)"
   ]
  },
  {
   "cell_type": "markdown",
   "id": "d9a06383",
   "metadata": {},
   "source": [
    "### Анализ данных"
   ]
  },
  {
   "cell_type": "code",
   "execution_count": 56,
   "id": "4bb15fbb",
   "metadata": {},
   "outputs": [
    {
     "data": {
      "image/png": "[encoded data removed]",
      "text/plain": [
       "<Figure size 1600x800 with 1 Axes>"
      ]
     },
     "metadata": {},
     "output_type": "display_data"
    }
   ],
   "source": [
    "plt.figure(figsize = (16, 8))\n",
    "\n",
    "moscow['price'].hist(bins=30)\n",
    "plt.ylabel('Count')\n",
    "plt.xlabel('Price')\n",
    "\n",
    "plt.title('Target distribution')\n",
    "plt.show()"
   ]
  },
  {
   "cell_type": "code",
   "execution_count": 57,
   "id": "c28870a9",
   "metadata": {},
   "outputs": [
    {
     "data": {
      "text/html": [
       "<div>\n",
       "<style scoped>\n",
       "    .dataframe tbody tr th:only-of-type {\n",
       "        vertical-align: middle;\n",
       "    }\n",
       "\n",
       "    .dataframe tbody tr th {\n",
       "        vertical-align: top;\n",
       "    }\n",
       "\n",
       "    .dataframe thead th {\n",
       "        text-align: right;\n",
       "    }\n",
       "</style>\n",
       "<table border=\"1\" class=\"dataframe\">\n",
       "  <thead>\n",
       "    <tr style=\"text-align: right;\">\n",
       "      <th></th>\n",
       "      <th>house_age</th>\n",
       "      <th>dist_to_subway</th>\n",
       "      <th>subway_dist_to_center</th>\n",
       "      <th>agent_offers</th>\n",
       "      <th>subway_offers</th>\n",
       "      <th>address_offers</th>\n",
       "      <th>rooms</th>\n",
       "      <th>footage</th>\n",
       "      <th>floor</th>\n",
       "      <th>max_floor</th>\n",
       "    </tr>\n",
       "  </thead>\n",
       "  <tbody>\n",
       "    <tr>\n",
       "      <th>count</th>\n",
       "      <td>9744.000000</td>\n",
       "      <td>9744.000000</td>\n",
       "      <td>9744.000000</td>\n",
       "      <td>9744.000000</td>\n",
       "      <td>9744.000000</td>\n",
       "      <td>9744.000000</td>\n",
       "      <td>9744.000000</td>\n",
       "      <td>9744.000000</td>\n",
       "      <td>9744.000000</td>\n",
       "      <td>9744.000000</td>\n",
       "    </tr>\n",
       "    <tr>\n",
       "      <th>mean</th>\n",
       "      <td>36.159483</td>\n",
       "      <td>930.863608</td>\n",
       "      <td>11970.867200</td>\n",
       "      <td>25.111966</td>\n",
       "      <td>10.132594</td>\n",
       "      <td>1.283251</td>\n",
       "      <td>1.598009</td>\n",
       "      <td>46.077247</td>\n",
       "      <td>6.899528</td>\n",
       "      <td>13.520731</td>\n",
       "    </tr>\n",
       "    <tr>\n",
       "      <th>std</th>\n",
       "      <td>21.348485</td>\n",
       "      <td>533.726228</td>\n",
       "      <td>4718.323703</td>\n",
       "      <td>61.231197</td>\n",
       "      <td>7.058375</td>\n",
       "      <td>0.724509</td>\n",
       "      <td>0.490325</td>\n",
       "      <td>10.535780</td>\n",
       "      <td>5.344545</td>\n",
       "      <td>6.462310</td>\n",
       "    </tr>\n",
       "    <tr>\n",
       "      <th>min</th>\n",
       "      <td>0.000000</td>\n",
       "      <td>11.000000</td>\n",
       "      <td>1402.000000</td>\n",
       "      <td>0.000000</td>\n",
       "      <td>1.000000</td>\n",
       "      <td>1.000000</td>\n",
       "      <td>1.000000</td>\n",
       "      <td>30.100000</td>\n",
       "      <td>1.000000</td>\n",
       "      <td>2.000000</td>\n",
       "    </tr>\n",
       "    <tr>\n",
       "      <th>25%</th>\n",
       "      <td>16.000000</td>\n",
       "      <td>550.000000</td>\n",
       "      <td>8635.000000</td>\n",
       "      <td>1.000000</td>\n",
       "      <td>5.000000</td>\n",
       "      <td>1.000000</td>\n",
       "      <td>1.000000</td>\n",
       "      <td>38.000000</td>\n",
       "      <td>3.000000</td>\n",
       "      <td>9.000000</td>\n",
       "    </tr>\n",
       "    <tr>\n",
       "      <th>50%</th>\n",
       "      <td>42.000000</td>\n",
       "      <td>819.000000</td>\n",
       "      <td>12430.000000</td>\n",
       "      <td>1.000000</td>\n",
       "      <td>8.000000</td>\n",
       "      <td>1.000000</td>\n",
       "      <td>2.000000</td>\n",
       "      <td>44.400000</td>\n",
       "      <td>5.000000</td>\n",
       "      <td>12.000000</td>\n",
       "    </tr>\n",
       "    <tr>\n",
       "      <th>75%</th>\n",
       "      <td>53.000000</td>\n",
       "      <td>1183.250000</td>\n",
       "      <td>14840.000000</td>\n",
       "      <td>11.000000</td>\n",
       "      <td>13.000000</td>\n",
       "      <td>1.000000</td>\n",
       "      <td>2.000000</td>\n",
       "      <td>53.300000</td>\n",
       "      <td>10.000000</td>\n",
       "      <td>17.000000</td>\n",
       "    </tr>\n",
       "    <tr>\n",
       "      <th>max</th>\n",
       "      <td>130.000000</td>\n",
       "      <td>2988.000000</td>\n",
       "      <td>24636.000000</td>\n",
       "      <td>292.000000</td>\n",
       "      <td>40.000000</td>\n",
       "      <td>9.000000</td>\n",
       "      <td>2.000000</td>\n",
       "      <td>89.900000</td>\n",
       "      <td>38.000000</td>\n",
       "      <td>39.000000</td>\n",
       "    </tr>\n",
       "  </tbody>\n",
       "</table>\n",
       "</div>"
      ],
      "text/plain": [
       "         house_age  dist_to_subway  subway_dist_to_center  agent_offers  \\\n",
       "count  9744.000000     9744.000000            9744.000000   9744.000000   \n",
       "mean     36.159483      930.863608           11970.867200     25.111966   \n",
       "std      21.348485      533.726228            4718.323703     61.231197   \n",
       "min       0.000000       11.000000            1402.000000      0.000000   \n",
       "25%      16.000000      550.000000            8635.000000      1.000000   \n",
       "50%      42.000000      819.000000           12430.000000      1.000000   \n",
       "75%      53.000000     1183.250000           14840.000000     11.000000   \n",
       "max     130.000000     2988.000000           24636.000000    292.000000   \n",
       "\n",
       "       subway_offers  address_offers        rooms      footage        floor  \\\n",
       "count    9744.000000     9744.000000  9744.000000  9744.000000  9744.000000   \n",
       "mean       10.132594        1.283251     1.598009    46.077247     6.899528   \n",
       "std         7.058375        0.724509     0.490325    10.535780     5.344545   \n",
       "min         1.000000        1.000000     1.000000    30.100000     1.000000   \n",
       "25%         5.000000        1.000000     1.000000    38.000000     3.000000   \n",
       "50%         8.000000        1.000000     2.000000    44.400000     5.000000   \n",
       "75%        13.000000        1.000000     2.000000    53.300000    10.000000   \n",
       "max        40.000000        9.000000     2.000000    89.900000    38.000000   \n",
       "\n",
       "         max_floor  \n",
       "count  9744.000000  \n",
       "mean     13.520731  \n",
       "std       6.462310  \n",
       "min       2.000000  \n",
       "25%       9.000000  \n",
       "50%      12.000000  \n",
       "75%      17.000000  \n",
       "max      39.000000  "
      ]
     },
     "execution_count": 57,
     "metadata": {},
     "output_type": "execute_result"
    }
   ],
   "source": [
    "X_train.describe()"
   ]
  },
  {
   "cell_type": "code",
   "execution_count": 58,
   "id": "525a3623",
   "metadata": {},
   "outputs": [
    {
     "data": {
      "text/plain": [
       "count    9.744000e+03\n",
       "mean     1.085110e+07\n",
       "std      3.032246e+06\n",
       "min      4.900000e+06\n",
       "25%      8.478750e+06\n",
       "50%      1.020000e+07\n",
       "75%      1.265000e+07\n",
       "max      2.000000e+07\n",
       "Name: price, dtype: float64"
      ]
     },
     "execution_count": 58,
     "metadata": {},
     "output_type": "execute_result"
    }
   ],
   "source": [
    "y_train.describe()"
   ]
  },
  {
   "cell_type": "code",
   "execution_count": 59,
   "id": "ef208110",
   "metadata": {},
   "outputs": [
    {
     "data": {
      "text/plain": [
       "array([[<AxesSubplot:title={'center':'house_age'}>,\n",
       "        <AxesSubplot:title={'center':'dist_to_subway'}>,\n",
       "        <AxesSubplot:title={'center':'subway_dist_to_center'}>],\n",
       "       [<AxesSubplot:title={'center':'agent_offers'}>,\n",
       "        <AxesSubplot:title={'center':'subway_offers'}>,\n",
       "        <AxesSubplot:title={'center':'address_offers'}>],\n",
       "       [<AxesSubplot:title={'center':'rooms'}>,\n",
       "        <AxesSubplot:title={'center':'footage'}>,\n",
       "        <AxesSubplot:title={'center':'floor'}>],\n",
       "       [<AxesSubplot:title={'center':'max_floor'}>, <AxesSubplot:>,\n",
       "        <AxesSubplot:>]], dtype=object)"
      ]
     },
     "execution_count": 59,
     "metadata": {},
     "output_type": "execute_result"
    },
    {
     "data": {
      "image/png": "[encoded data removed]",
      "text/plain": [
       "<Figure size 1600x1600 with 12 Axes>"
      ]
     },
     "metadata": {},
     "output_type": "display_data"
    }
   ],
   "source": [
    "X.hist(figsize=(16,16), bins=30, grid=False)"
   ]
  },
  {
   "cell_type": "markdown",
   "id": "1eac2fde",
   "metadata": {},
   "source": [
    "### Номинативные переменные"
   ]
  },
  {
   "cell_type": "code",
   "execution_count": 60,
   "id": "48ab4bc5",
   "metadata": {},
   "outputs": [
    {
     "data": {
      "text/plain": [
       "['repair', 'closest_subway', 'sg', 'lat', 'lon', 'h3', 'AO', 'hm']"
      ]
     },
     "execution_count": 60,
     "metadata": {},
     "output_type": "execute_result"
    }
   ],
   "source": [
    "moscow.select_dtypes(include='object').columns.tolist()"
   ]
  },
  {
   "cell_type": "code",
   "execution_count": 61,
   "id": "1202a63b",
   "metadata": {},
   "outputs": [
    {
     "data": {
      "text/plain": [
       "2    6280\n",
       "3    3320\n",
       "1    1742\n",
       "4     839\n",
       "Name: repair, dtype: int64"
      ]
     },
     "execution_count": 61,
     "metadata": {},
     "output_type": "execute_result"
    }
   ],
   "source": [
    "moscow['repair'].value_counts()"
   ]
  },
  {
   "cell_type": "code",
   "execution_count": 62,
   "id": "21b836d6",
   "metadata": {},
   "outputs": [
    {
     "data": {
      "text/plain": [
       "109    353\n",
       "81     219\n",
       "93     218\n",
       "195    214\n",
       "153    212\n",
       "      ... \n",
       "162      4\n",
       "121      3\n",
       "146      2\n",
       "142      2\n",
       "67       1\n",
       "Name: closest_subway, Length: 200, dtype: int64"
      ]
     },
     "execution_count": 62,
     "metadata": {},
     "output_type": "execute_result"
    }
   ],
   "source": [
    "moscow['closest_subway'].value_counts()"
   ]
  },
  {
   "cell_type": "code",
   "execution_count": 63,
   "id": "d94667a8",
   "metadata": {},
   "outputs": [
    {
     "data": {
      "text/plain": [
       "0.0    10448\n",
       "2.0     1075\n",
       "1.0      584\n",
       "3.0       74\n",
       "Name: sg, dtype: int64"
      ]
     },
     "execution_count": 63,
     "metadata": {},
     "output_type": "execute_result"
    }
   ],
   "source": [
    "moscow['sg'].value_counts()"
   ]
  },
  {
   "cell_type": "code",
   "execution_count": 64,
   "id": "53364ed4",
   "metadata": {},
   "outputs": [
    {
     "data": {
      "text/plain": [
       "55.9415774           55\n",
       "55.774745            39\n",
       "55.70822800000001    34\n",
       "55.75147679999999    29\n",
       "55.697453            28\n",
       "                     ..\n",
       "55.850822             1\n",
       "55.8435076            1\n",
       "55.85024179999999     1\n",
       "55.8467267            1\n",
       "55.7591376            1\n",
       "Name: lat, Length: 6476, dtype: int64"
      ]
     },
     "execution_count": 64,
     "metadata": {},
     "output_type": "execute_result"
    }
   ],
   "source": [
    "moscow['lat'].value_counts()"
   ]
  },
  {
   "cell_type": "code",
   "execution_count": 65,
   "id": "8fd4134f",
   "metadata": {},
   "outputs": [
    {
     "data": {
      "text/plain": [
       "37.5315043           55\n",
       "37.548609            39\n",
       "37.9427739           34\n",
       "37.6993277           29\n",
       "37.633976            28\n",
       "                     ..\n",
       "37.933564             1\n",
       "37.93540460000001     1\n",
       "37.9195133            1\n",
       "37.564248             1\n",
       "37.6422918            1\n",
       "Name: lon, Length: 6462, dtype: int64"
      ]
     },
     "execution_count": 65,
     "metadata": {},
     "output_type": "execute_result"
    }
   ],
   "source": [
    "moscow['lon'].value_counts()"
   ]
  },
  {
   "cell_type": "code",
   "execution_count": 66,
   "id": "d75e846d",
   "metadata": {},
   "outputs": [
    {
     "data": {
      "text/plain": [
       "8611aa6a7ffffff    671\n",
       "8611aa7b7ffffff    602\n",
       "8611aa70fffffff    581\n",
       "8611aa717ffffff    544\n",
       "861181b6fffffff    534\n",
       "8611aa707ffffff    511\n",
       "8611aa787ffffff    500\n",
       "8611aa6b7ffffff    497\n",
       "8611aa637ffffff    473\n",
       "8611aa78fffffff    469\n",
       "8611aa71fffffff    456\n",
       "8611aa627ffffff    453\n",
       "8611aa797ffffff    401\n",
       "8611aa45fffffff    394\n",
       "8611aa68fffffff    351\n",
       "8611aa7a7ffffff    351\n",
       "8611aa617ffffff    329\n",
       "8611aa79fffffff    319\n",
       "8611aa4dfffffff    316\n",
       "861181b67ffffff    316\n",
       "8611aa7afffffff    311\n",
       "8611aa44fffffff    286\n",
       "8611aa6afffffff    273\n",
       "8611aa61fffffff    262\n",
       "8611aa737ffffff    217\n",
       "8611aa4cfffffff    212\n",
       "8611aa687ffffff    197\n",
       "8611aa727ffffff    188\n",
       "8611aa457ffffff    185\n",
       "8611aa607ffffff    177\n",
       "8611aa4efffffff    170\n",
       "8611aa09fffffff    119\n",
       "8611aa777ffffff    112\n",
       "8611aa72fffffff     92\n",
       "8611aa757ffffff     90\n",
       "8611aa46fffffff     63\n",
       "861181b4fffffff     54\n",
       "8611aa447ffffff     43\n",
       "8611aa69fffffff     38\n",
       "8611aa62fffffff     10\n",
       "8611aa4d7ffffff      6\n",
       "861181b47ffffff      4\n",
       "861181b77ffffff      3\n",
       "8611aa40fffffff      1\n",
       "Name: h3, dtype: int64"
      ]
     },
     "execution_count": 66,
     "metadata": {},
     "output_type": "execute_result"
    }
   ],
   "source": [
    "moscow['h3'].value_counts()"
   ]
  },
  {
   "cell_type": "code",
   "execution_count": 67,
   "id": "4502f317",
   "metadata": {},
   "outputs": [
    {
     "data": {
      "text/plain": [
       "UVAO    2053\n",
       "ZAO     1594\n",
       "UAO     1496\n",
       "UZAO    1453\n",
       "SAO     1422\n",
       "SVAO    1388\n",
       "VAO     1362\n",
       "SZAO     760\n",
       "CAO      653\n",
       "Name: AO, dtype: int64"
      ]
     },
     "execution_count": 67,
     "metadata": {},
     "output_type": "execute_result"
    }
   ],
   "source": [
    "moscow['AO'].value_counts()"
   ]
  },
  {
   "cell_type": "code",
   "execution_count": 68,
   "id": "79eb8ebb",
   "metadata": {},
   "outputs": [
    {
     "data": {
      "text/plain": [
       "panel       5731\n",
       "brick       2483\n",
       "monolith    2378\n",
       "block       1589\n",
       "Name: hm, dtype: int64"
      ]
     },
     "execution_count": 68,
     "metadata": {},
     "output_type": "execute_result"
    }
   ],
   "source": [
    "moscow['hm'].value_counts()"
   ]
  },
  {
   "cell_type": "code",
   "execution_count": null,
   "id": "19fd1647",
   "metadata": {},
   "outputs": [],
   "source": []
  }
 ],
 "metadata": {
  "kernelspec": {
   "display_name": "Python 3 (ipykernel)",
   "language": "python",
   "name": "python3"
  },
  "language_info": {
   "codemirror_mode": {
    "name": "ipython",
    "version": 3
   },
   "file_extension": ".py",
   "mimetype": "text/x-python",
   "name": "python",
   "nbconvert_exporter": "python",
   "pygments_lexer": "ipython3",
   "version": "3.9.13"
  }
 },
 "nbformat": 4,
 "nbformat_minor": 5
}
