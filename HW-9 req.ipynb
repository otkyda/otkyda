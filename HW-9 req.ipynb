{
 "cells": [
  {
   "cell_type": "code",
   "execution_count": 65,
   "id": "b7a5a6cf",
   "metadata": {},
   "outputs": [],
   "source": [
    "import requests\n",
    "\n",
    "import urllib.request\n",
    "import json "
   ]
  },
  {
   "cell_type": "code",
   "execution_count": 66,
   "id": "92d2d5d7",
   "metadata": {},
   "outputs": [],
   "source": [
    "# Пример данных\n",
    "data = ('ATTENTION: This is a MUST for ALL Computer Use', '00214.1367039e50dc6b7adb0f2aa8aba83216')"
   ]
  },
  {
   "cell_type": "code",
   "execution_count": 79,
   "id": "2285596f",
   "metadata": {},
   "outputs": [],
   "source": [
    "# формируем запрос\n",
    "def send_json(x):\n",
    "    MESSAGE, FILE_NAME = x\n",
    "    #print(MESSAGE, FILE_NAME)\n",
    "    body = {\n",
    "        'MESSAGE': MESSAGE,\n",
    "        'FILE_NAME': FILE_NAME\n",
    "        }\n",
    "    #myurl = 'http://948a-35-230-58-89.ngrok.io/' + '/predict'\n",
    "    myurl = 'http://127.0.0.1:5000/' + '/predict'\n",
    "    headers = {'content-type': 'application/json; charset=utf-8'}\n",
    "    response = requests.post(myurl, json=body, headers=headers)\n",
    "    return response.json()['predictions']"
   ]
  },
  {
   "cell_type": "code",
   "execution_count": 80,
   "id": "2877005d",
   "metadata": {},
   "outputs": [
    {
     "name": "stdout",
     "output_type": "stream",
     "text": [
      "предсказание 0.30791267979456544\n"
     ]
    }
   ],
   "source": [
    "# обращение к серверу с запросом из одного набора (его построили руками выше - data)\n",
    "response = send_json(data)\n",
    "print('предсказание', response)"
   ]
  },
  {
   "cell_type": "code",
   "execution_count": 69,
   "id": "591251b8",
   "metadata": {},
   "outputs": [],
   "source": [
    "import pandas as pd\n",
    "from sklearn.metrics import roc_auc_score, roc_curve, precision_recall_curve\n",
    "from sklearn.metrics import f1_score\n",
    "from urllib import request, parse"
   ]
  },
  {
   "cell_type": "code",
   "execution_count": 70,
   "id": "075421bd",
   "metadata": {},
   "outputs": [],
   "source": [
    "X_test = pd.read_csv(\"X_test.csv\")\n",
    "y_test = pd.read_csv(\"y_test.csv\")\n",
    "\n",
    "X_test.fillna('', inplace=True)"
   ]
  },
  {
   "cell_type": "code",
   "execution_count": 71,
   "id": "e4a807ce",
   "metadata": {},
   "outputs": [
    {
     "data": {
      "text/html": [
       "<div>\n",
       "<style scoped>\n",
       "    .dataframe tbody tr th:only-of-type {\n",
       "        vertical-align: middle;\n",
       "    }\n",
       "\n",
       "    .dataframe tbody tr th {\n",
       "        vertical-align: top;\n",
       "    }\n",
       "\n",
       "    .dataframe thead th {\n",
       "        text-align: right;\n",
       "    }\n",
       "</style>\n",
       "<table border=\"1\" class=\"dataframe\">\n",
       "  <thead>\n",
       "    <tr style=\"text-align: right;\">\n",
       "      <th></th>\n",
       "      <th>MESSAGE</th>\n",
       "      <th>FILE_NAME</th>\n",
       "    </tr>\n",
       "  </thead>\n",
       "  <tbody>\n",
       "    <tr>\n",
       "      <th>0</th>\n",
       "      <td>You could try HTTrack, available here: http://...</td>\n",
       "      <td>00420.f6140b71df992b02cc59548039eb05ca</td>\n",
       "    </tr>\n",
       "    <tr>\n",
       "      <th>1</th>\n",
       "      <td>At 01:12 AM 8/24/02 -0700, Adam L. Beberg wrot...</td>\n",
       "      <td>00314.611159749e214b996589d557e335648e</td>\n",
       "    </tr>\n",
       "    <tr>\n",
       "      <th>2</th>\n",
       "      <td>Gary Lawrence Murphy wrote:\\n\\n&gt;and say hello ...</td>\n",
       "      <td>00714.16c4d34ab2c9622fe82de9570946f9ef</td>\n",
       "    </tr>\n",
       "    <tr>\n",
       "      <th>3</th>\n",
       "      <td>\\n\\n&gt; (and no it wasnt me even though the spel...</td>\n",
       "      <td>00571.8f35c46bee6d7a238eabf207a5696b0c</td>\n",
       "    </tr>\n",
       "    <tr>\n",
       "      <th>4</th>\n",
       "      <td>Gary Murphy:\\n\\n&gt;How do you intend to take leg...</td>\n",
       "      <td>00991.80ac3c798bb00027efa6d80fdfb00d8e</td>\n",
       "    </tr>\n",
       "    <tr>\n",
       "      <th>...</th>\n",
       "      <td>...</td>\n",
       "      <td>...</td>\n",
       "    </tr>\n",
       "    <tr>\n",
       "      <th>1908</th>\n",
       "      <td>Me and my friends have this brand new idea, a ...</td>\n",
       "      <td>00049.09e42d433e0661f264a25c7d4ed6e3ea</td>\n",
       "    </tr>\n",
       "    <tr>\n",
       "      <th>1909</th>\n",
       "      <td>see my first line: I READ THE LINKS.  brickbat...</td>\n",
       "      <td>00900.04d3fc4b18f2def855155994cd956529</td>\n",
       "    </tr>\n",
       "    <tr>\n",
       "      <th>1910</th>\n",
       "      <td>&lt;!doctype html public \"-//w3c//dtd html 4.0 tr...</td>\n",
       "      <td>00749.9887b1d7cb21083c777b0623cfdb02af</td>\n",
       "    </tr>\n",
       "    <tr>\n",
       "      <th>1911</th>\n",
       "      <td>&gt; Is there any way that the mailing list can b...</td>\n",
       "      <td>00324.39e5abfb6121670fb637bb0367feea19</td>\n",
       "    </tr>\n",
       "    <tr>\n",
       "      <th>1912</th>\n",
       "      <td>Well, after playing around with these strange ...</td>\n",
       "      <td>00165.73687c8da9e868166f3ca6b8e94073a8</td>\n",
       "    </tr>\n",
       "  </tbody>\n",
       "</table>\n",
       "<p>1913 rows × 2 columns</p>\n",
       "</div>"
      ],
      "text/plain": [
       "                                                MESSAGE  \\\n",
       "0     You could try HTTrack, available here: http://...   \n",
       "1     At 01:12 AM 8/24/02 -0700, Adam L. Beberg wrot...   \n",
       "2     Gary Lawrence Murphy wrote:\\n\\n>and say hello ...   \n",
       "3     \\n\\n> (and no it wasnt me even though the spel...   \n",
       "4     Gary Murphy:\\n\\n>How do you intend to take leg...   \n",
       "...                                                 ...   \n",
       "1908  Me and my friends have this brand new idea, a ...   \n",
       "1909  see my first line: I READ THE LINKS.  brickbat...   \n",
       "1910  <!doctype html public \"-//w3c//dtd html 4.0 tr...   \n",
       "1911  > Is there any way that the mailing list can b...   \n",
       "1912  Well, after playing around with these strange ...   \n",
       "\n",
       "                                   FILE_NAME  \n",
       "0     00420.f6140b71df992b02cc59548039eb05ca  \n",
       "1     00314.611159749e214b996589d557e335648e  \n",
       "2     00714.16c4d34ab2c9622fe82de9570946f9ef  \n",
       "3     00571.8f35c46bee6d7a238eabf207a5696b0c  \n",
       "4     00991.80ac3c798bb00027efa6d80fdfb00d8e  \n",
       "...                                      ...  \n",
       "1908  00049.09e42d433e0661f264a25c7d4ed6e3ea  \n",
       "1909  00900.04d3fc4b18f2def855155994cd956529  \n",
       "1910  00749.9887b1d7cb21083c777b0623cfdb02af  \n",
       "1911  00324.39e5abfb6121670fb637bb0367feea19  \n",
       "1912  00165.73687c8da9e868166f3ca6b8e94073a8  \n",
       "\n",
       "[1913 rows x 2 columns]"
      ]
     },
     "execution_count": 71,
     "metadata": {},
     "output_type": "execute_result"
    }
   ],
   "source": [
    "X_test[['MESSAGE', 'FILE_NAME']]"
   ]
  },
  {
   "cell_type": "code",
   "execution_count": 74,
   "id": "f39ff274",
   "metadata": {},
   "outputs": [],
   "source": [
    "response = send_json(X_test[['MESSAGE', 'FILE_NAME']].iloc[1,:])"
   ]
  },
  {
   "cell_type": "code",
   "execution_count": 75,
   "id": "5978cb9e",
   "metadata": {},
   "outputs": [
    {
     "data": {
      "text/plain": [
       "0.15388391769775583"
      ]
     },
     "execution_count": 75,
     "metadata": {},
     "output_type": "execute_result"
    }
   ],
   "source": [
    "response"
   ]
  },
  {
   "cell_type": "markdown",
   "id": "f2d3d199",
   "metadata": {},
   "source": [
    "Сделаем N запросов и оценим время"
   ]
  },
  {
   "cell_type": "code",
   "execution_count": 81,
   "id": "b040c725",
   "metadata": {},
   "outputs": [],
   "source": [
    "N = 50"
   ]
  },
  {
   "cell_type": "code",
   "execution_count": 82,
   "id": "1df861c9",
   "metadata": {},
   "outputs": [
    {
     "name": "stdout",
     "output_type": "stream",
     "text": [
      "Wall time: 356 ms\n"
     ]
    }
   ],
   "source": [
    "%%time\n",
    "predictions = X_test[\n",
    "                     ['MESSAGE', 'FILE_NAME']\n",
    "                     ].iloc[:N].apply(lambda x: send_json(x), axis=1)"
   ]
  },
  {
   "cell_type": "code",
   "execution_count": 83,
   "id": "f9a20421",
   "metadata": {},
   "outputs": [
    {
     "data": {
      "text/plain": [
       "array([0.03555344, 0.15388392, 0.09508508, 0.10314481, 0.06212979])"
      ]
     },
     "execution_count": 83,
     "metadata": {},
     "output_type": "execute_result"
    }
   ],
   "source": [
    "predictions.values[:5]"
   ]
  },
  {
   "cell_type": "markdown",
   "id": "a0551b2d",
   "metadata": {},
   "source": [
    "Посчитаем метрику"
   ]
  },
  {
   "cell_type": "code",
   "execution_count": 84,
   "id": "a661f528",
   "metadata": {},
   "outputs": [
    {
     "data": {
      "text/html": [
       "<div>\n",
       "<style scoped>\n",
       "    .dataframe tbody tr th:only-of-type {\n",
       "        vertical-align: middle;\n",
       "    }\n",
       "\n",
       "    .dataframe tbody tr th {\n",
       "        vertical-align: top;\n",
       "    }\n",
       "\n",
       "    .dataframe thead th {\n",
       "        text-align: right;\n",
       "    }\n",
       "</style>\n",
       "<table border=\"1\" class=\"dataframe\">\n",
       "  <thead>\n",
       "    <tr style=\"text-align: right;\">\n",
       "      <th></th>\n",
       "      <th>CATEGORY</th>\n",
       "    </tr>\n",
       "  </thead>\n",
       "  <tbody>\n",
       "    <tr>\n",
       "      <th>0</th>\n",
       "      <td>0</td>\n",
       "    </tr>\n",
       "    <tr>\n",
       "      <th>1</th>\n",
       "      <td>0</td>\n",
       "    </tr>\n",
       "    <tr>\n",
       "      <th>2</th>\n",
       "      <td>0</td>\n",
       "    </tr>\n",
       "    <tr>\n",
       "      <th>3</th>\n",
       "      <td>0</td>\n",
       "    </tr>\n",
       "    <tr>\n",
       "      <th>4</th>\n",
       "      <td>0</td>\n",
       "    </tr>\n",
       "  </tbody>\n",
       "</table>\n",
       "</div>"
      ],
      "text/plain": [
       "   CATEGORY\n",
       "0         0\n",
       "1         0\n",
       "2         0\n",
       "3         0\n",
       "4         0"
      ]
     },
     "execution_count": 84,
     "metadata": {},
     "output_type": "execute_result"
    }
   ],
   "source": [
    "y_test.head()"
   ]
  },
  {
   "cell_type": "code",
   "execution_count": 85,
   "id": "9e80aefa",
   "metadata": {},
   "outputs": [
    {
     "name": "stdout",
     "output_type": "stream",
     "text": [
      "Best Threshold=0.5258616553547959, F-Score=1.000, Precision=1.000, Recall=1.000\n"
     ]
    }
   ],
   "source": [
    "import numpy as np\n",
    "\n",
    "precision, recall, thresholds = precision_recall_curve(y_test[:N], predictions)\n",
    "\n",
    "fscore = (2 * precision * recall) / (precision + recall)\n",
    "# locate the index of the largest f score\n",
    "ix = np.argmax(fscore)\n",
    "print(f'Best Threshold={thresholds[ix]}, F-Score={fscore[ix]:.3f}, Precision={precision[ix]:.3f}, Recall={recall[ix]:.3f}')"
   ]
  },
  {
   "cell_type": "code",
   "execution_count": null,
   "id": "291ae352",
   "metadata": {},
   "outputs": [],
   "source": []
  }
 ],
 "metadata": {
  "kernelspec": {
   "display_name": "Python 3 (ipykernel)",
   "language": "python",
   "name": "python3"
  },
  "language_info": {
   "codemirror_mode": {
    "name": "ipython",
    "version": 3
   },
   "file_extension": ".py",
   "mimetype": "text/x-python",
   "name": "python",
   "nbconvert_exporter": "python",
   "pygments_lexer": "ipython3",
   "version": "3.9.13"
  }
 },
 "nbformat": 4,
 "nbformat_minor": 5
}
