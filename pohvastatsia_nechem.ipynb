{
 "cells": [
  {
   "cell_type": "markdown",
   "metadata": {
    "id": "mu3csxfQcbe7"
   },
   "source": [
    "# Генератор (болталка)"
   ]
  },
  {
   "cell_type": "code",
   "execution_count": 1,
   "metadata": {},
   "outputs": [],
   "source": [
    "# медицинскую вопросно-ответную систему, датасет https://huggingface.co/datasets/blinoff/medical_qa_ru_data."
   ]
  },
  {
   "cell_type": "code",
   "execution_count": 2,
   "metadata": {
    "colab": {
     "base_uri": "https://localhost:8080/"
    },
    "id": "f0Sqj8x2Uwhu",
    "outputId": "756babcf-78ee-4d92-bf9e-1843ee381dcc"
   },
   "outputs": [
    {
     "name": "stdout",
     "output_type": "stream",
     "text": [
      "Requirement already satisfied: transformers in c:\\users\\hozyain\\appdata\\roaming\\python\\python39\\site-packages (4.36.2)\n",
      "Requirement already satisfied: torch in c:\\users\\hozyain\\.conda\\envs\\nlp39\\lib\\site-packages (1.12.1)\n",
      "Requirement already satisfied: wikipedia in c:\\users\\hozyain\\.conda\\envs\\nlp39\\lib\\site-packages (1.4.0)\n",
      "Requirement already satisfied: torchvision in c:\\users\\hozyain\\.conda\\envs\\nlp39\\lib\\site-packages (0.13.1)\n",
      "Requirement already satisfied: torchaudio in c:\\users\\hozyain\\.conda\\envs\\nlp39\\lib\\site-packages (0.12.1)\n",
      "Requirement already satisfied: filelock in c:\\users\\hozyain\\.conda\\envs\\nlp39\\lib\\site-packages (from transformers) (3.9.1)\n",
      "Requirement already satisfied: huggingface-hub<1.0,>=0.19.3 in c:\\users\\hozyain\\appdata\\roaming\\python\\python39\\site-packages (from transformers) (0.20.1)\n",
      "Requirement already satisfied: numpy>=1.17 in c:\\users\\hozyain\\.conda\\envs\\nlp39\\lib\\site-packages (from transformers) (1.23.5)\n",
      "Requirement already satisfied: packaging>=20.0 in c:\\users\\hozyain\\.conda\\envs\\nlp39\\lib\\site-packages (from transformers) (21.3)\n",
      "Requirement already satisfied: pyyaml>=5.1 in c:\\users\\hozyain\\.conda\\envs\\nlp39\\lib\\site-packages (from transformers) (5.4.1)\n",
      "Requirement already satisfied: regex!=2019.12.17 in c:\\users\\hozyain\\.conda\\envs\\nlp39\\lib\\site-packages (from transformers) (2023.12.25)\n",
      "Requirement already satisfied: requests in c:\\users\\hozyain\\.conda\\envs\\nlp39\\lib\\site-packages (from transformers) (2.26.0)\n",
      "Requirement already satisfied: tokenizers<0.19,>=0.14 in c:\\users\\hozyain\\appdata\\roaming\\python\\python39\\site-packages (from transformers) (0.15.0)\n",
      "Requirement already satisfied: safetensors>=0.3.1 in c:\\users\\hozyain\\appdata\\roaming\\python\\python39\\site-packages (from transformers) (0.4.1)\n",
      "Requirement already satisfied: tqdm>=4.27 in c:\\users\\hozyain\\.conda\\envs\\nlp39\\lib\\site-packages (from transformers) (4.64.1)\n",
      "Requirement already satisfied: typing-extensions in c:\\users\\hozyain\\.conda\\envs\\nlp39\\lib\\site-packages (from torch) (4.7.1)\n",
      "Requirement already satisfied: beautifulsoup4 in c:\\users\\hozyain\\.conda\\envs\\nlp39\\lib\\site-packages (from wikipedia) (4.12.2)\n",
      "Requirement already satisfied: pillow!=8.3.*,>=5.3.0 in c:\\users\\hozyain\\.conda\\envs\\nlp39\\lib\\site-packages (from torchvision) (10.2.0)\n",
      "Requirement already satisfied: fsspec>=2023.5.0 in c:\\users\\hozyain\\appdata\\roaming\\python\\python39\\site-packages (from huggingface-hub<1.0,>=0.19.3->transformers) (2023.10.0)\n",
      "Requirement already satisfied: pyparsing!=3.0.5,>=2.0.2 in c:\\users\\hozyain\\.conda\\envs\\nlp39\\lib\\site-packages (from packaging>=20.0->transformers) (3.1.1)\n",
      "Requirement already satisfied: urllib3<1.27,>=1.21.1 in c:\\users\\hozyain\\.conda\\envs\\nlp39\\lib\\site-packages (from requests->transformers) (1.26.18)\n",
      "Requirement already satisfied: certifi>=2017.4.17 in c:\\users\\hozyain\\.conda\\envs\\nlp39\\lib\\site-packages (from requests->transformers) (2023.11.17)\n",
      "Requirement already satisfied: charset-normalizer~=2.0.0 in c:\\users\\hozyain\\.conda\\envs\\nlp39\\lib\\site-packages (from requests->transformers) (2.0.4)\n",
      "Requirement already satisfied: idna<4,>=2.5 in c:\\users\\hozyain\\.conda\\envs\\nlp39\\lib\\site-packages (from requests->transformers) (3.4)\n",
      "Requirement already satisfied: colorama in c:\\users\\hozyain\\appdata\\roaming\\python\\python39\\site-packages (from tqdm>=4.27->transformers) (0.4.6)\n",
      "Requirement already satisfied: soupsieve>1.2 in c:\\users\\hozyain\\.conda\\envs\\nlp39\\lib\\site-packages (from beautifulsoup4->wikipedia) (2.5)\n"
     ]
    }
   ],
   "source": [
    "!pip3 install transformers torch wikipedia torchvision torchaudio"
   ]
  },
  {
   "cell_type": "code",
   "execution_count": 3,
   "metadata": {},
   "outputs": [
    {
     "name": "stdout",
     "output_type": "stream",
     "text": [
      "Requirement already satisfied: torch==1.12.1 in c:\\users\\hozyain\\.conda\\envs\\nlp39\\lib\\site-packages (1.12.1)\n",
      "Requirement already satisfied: torchvision==0.13.1 in c:\\users\\hozyain\\.conda\\envs\\nlp39\\lib\\site-packages (0.13.1)\n",
      "Requirement already satisfied: torchaudio==0.12.1 in c:\\users\\hozyain\\.conda\\envs\\nlp39\\lib\\site-packages (0.12.1)\n",
      "Requirement already satisfied: typing-extensions in c:\\users\\hozyain\\.conda\\envs\\nlp39\\lib\\site-packages (from torch==1.12.1) (4.7.1)\n",
      "Requirement already satisfied: numpy in c:\\users\\hozyain\\.conda\\envs\\nlp39\\lib\\site-packages (from torchvision==0.13.1) (1.23.5)\n",
      "Requirement already satisfied: requests in c:\\users\\hozyain\\.conda\\envs\\nlp39\\lib\\site-packages (from torchvision==0.13.1) (2.26.0)\n",
      "Requirement already satisfied: pillow!=8.3.*,>=5.3.0 in c:\\users\\hozyain\\.conda\\envs\\nlp39\\lib\\site-packages (from torchvision==0.13.1) (10.2.0)\n",
      "Requirement already satisfied: urllib3<1.27,>=1.21.1 in c:\\users\\hozyain\\.conda\\envs\\nlp39\\lib\\site-packages (from requests->torchvision==0.13.1) (1.26.18)\n",
      "Requirement already satisfied: certifi>=2017.4.17 in c:\\users\\hozyain\\.conda\\envs\\nlp39\\lib\\site-packages (from requests->torchvision==0.13.1) (2023.11.17)\n",
      "Requirement already satisfied: charset-normalizer~=2.0.0 in c:\\users\\hozyain\\.conda\\envs\\nlp39\\lib\\site-packages (from requests->torchvision==0.13.1) (2.0.4)\n",
      "Requirement already satisfied: idna<4,>=2.5 in c:\\users\\hozyain\\.conda\\envs\\nlp39\\lib\\site-packages (from requests->torchvision==0.13.1) (3.4)\n"
     ]
    }
   ],
   "source": [
    "!pip3 install torch==1.12.1 torchvision==0.13.1 torchaudio==0.12.1"
   ]
  },
  {
   "cell_type": "code",
   "execution_count": 4,
   "metadata": {
    "id": "0koRjKobU1b3"
   },
   "outputs": [],
   "source": [
    "from transformers import GPT2LMHeadModel, GPT2Tokenizer\n",
    "import torch\n",
    "#DEVICE = torch.device(\"cuda:0\")\n",
    "\n",
    "model_name_or_path = \"radm/rugpt3medium-tathagata\"\n",
    "model_name_or_path = \"sberbank-ai/rugpt3medium_based_on_gpt2\"\n",
    "tokenizer = GPT2Tokenizer.from_pretrained(\"sberbank-ai/rugpt3medium_based_on_gpt2\")\n",
    "model = GPT2LMHeadModel.from_pretrained(model_name_or_path)#.to(DEVICE)"
   ]
  },
  {
   "cell_type": "code",
   "execution_count": 5,
   "metadata": {
    "id": "9n8Y9P7YU4q-"
   },
   "outputs": [],
   "source": [
    "def respond_to_dialog(texts):\n",
    "    prefix = '\\nx:'\n",
    "    for i, t in enumerate(texts):\n",
    "        prefix += t\n",
    "        prefix += '\\nx:' if i % 2 == 1 else '\\ny:'\n",
    "    tokens = tokenizer(prefix, return_tensors='pt')\n",
    "    tokens = {k: v.to(model.device) for k, v in tokens.items()}\n",
    "    end_token_id = tokenizer.encode('\\n')[0]\n",
    "    size = tokens['input_ids'].shape[1]\n",
    "    output = model.generate(\n",
    "        **tokens, \n",
    "        eos_token_id=end_token_id,\n",
    "        do_sample=True, \n",
    "        max_length=size+128, \n",
    "        repetition_penalty=3.2, \n",
    "        temperature=1,\n",
    "        num_beams=3,\n",
    "        length_penalty=0.01,\n",
    "        pad_token_id=end_token_id\n",
    "    )\n",
    "    decoded = tokenizer.decode(output[0])\n",
    "    result = decoded[len(prefix):]\n",
    "    return result.strip()"
   ]
  },
  {
   "cell_type": "markdown",
   "metadata": {
    "id": "lLStPgD3dwfL"
   },
   "source": [
    "#\"Бот-всезнайка\""
   ]
  },
  {
   "cell_type": "code",
   "execution_count": 6,
   "metadata": {
    "colab": {
     "base_uri": "https://localhost:8080/"
    },
    "id": "ocZBGm3-QUzG",
    "outputId": "e3950e5e-dfa0-40ad-fdce-1b69d3eb27c6"
   },
   "outputs": [
    {
     "name": "stdout",
     "output_type": "stream",
     "text": [
      "Requirement already satisfied: wikipedia in c:\\users\\hozyain\\.conda\\envs\\nlp39\\lib\\site-packages (1.4.0)\n",
      "Requirement already satisfied: beautifulsoup4 in c:\\users\\hozyain\\.conda\\envs\\nlp39\\lib\\site-packages (from wikipedia) (4.12.2)\n",
      "Requirement already satisfied: requests<3.0.0,>=2.0.0 in c:\\users\\hozyain\\.conda\\envs\\nlp39\\lib\\site-packages (from wikipedia) (2.26.0)\n",
      "Requirement already satisfied: urllib3<1.27,>=1.21.1 in c:\\users\\hozyain\\.conda\\envs\\nlp39\\lib\\site-packages (from requests<3.0.0,>=2.0.0->wikipedia) (1.26.18)\n",
      "Requirement already satisfied: certifi>=2017.4.17 in c:\\users\\hozyain\\.conda\\envs\\nlp39\\lib\\site-packages (from requests<3.0.0,>=2.0.0->wikipedia) (2023.11.17)\n",
      "Requirement already satisfied: charset-normalizer~=2.0.0 in c:\\users\\hozyain\\.conda\\envs\\nlp39\\lib\\site-packages (from requests<3.0.0,>=2.0.0->wikipedia) (2.0.4)\n",
      "Requirement already satisfied: idna<4,>=2.5 in c:\\users\\hozyain\\.conda\\envs\\nlp39\\lib\\site-packages (from requests<3.0.0,>=2.0.0->wikipedia) (3.4)\n",
      "Requirement already satisfied: soupsieve>1.2 in c:\\users\\hozyain\\.conda\\envs\\nlp39\\lib\\site-packages (from beautifulsoup4->wikipedia) (2.5)\n"
     ]
    }
   ],
   "source": [
    "!pip install wikipedia"
   ]
  },
  {
   "cell_type": "code",
   "execution_count": 7,
   "metadata": {
    "id": "qSqXLEzBOMHv"
   },
   "outputs": [],
   "source": [
    "import wikipedia\n",
    "import re\n",
    "wikipedia.set_lang(\"ru\")"
   ]
  },
  {
   "cell_type": "code",
   "execution_count": 8,
   "metadata": {
    "id": "Vaw5EeNqmpYI"
   },
   "outputs": [],
   "source": [
    "# Чистим текст статьи из Wikipedia и ограничиваем его тысячей символов\n",
    "def getwiki(s):\n",
    "    try:\n",
    "        ny = wikipedia.page(s)\n",
    "        # Получаем первую тысячу символов\n",
    "        wikitext=ny.content[:2000]\n",
    "        # Разбиваем, считая точку разделителем\n",
    "        wikimas=wikitext.split('.')\n",
    "        # Отбрасываем всё после последней точки\n",
    "        wikimas = wikimas[:-1]\n",
    "        # Создаем пустую переменную для текста\n",
    "        wikitext2 = ''\n",
    "        # Проходимся по строкам, где нет знаков «равно» (то есть все, кроме заголовков)\n",
    "        for x in wikimas:\n",
    "            if not('==' in x):\n",
    "                    # Если в строке осталось больше трех символов, добавляем ее\n",
    "                    # к нашей переменной и возвращаем утерянные при разделении строк точки на место\n",
    "                if(len((x.strip()))>3):\n",
    "                   wikitext2=wikitext2+x+'.'\n",
    "            else:\n",
    "                break\n",
    "        # Теперь при помощи регулярных выражений убираем разметку\n",
    "        wikitext2=re.sub('\\([^()]*\\)', '', wikitext2)\n",
    "        wikitext2=re.sub('\\{[^\\{\\}]*\\}', '', wikitext2)\n",
    "        # Возвращаем текстовую строку\n",
    "        return wikitext2\n",
    "    # Обрабатываем исключение, которое мог вернуть модуль wikipedia при запросе\n",
    "    except Exception as e:\n",
    "        return 'В энциклопедии нет информации об этом'"
   ]
  },
  {
   "cell_type": "code",
   "execution_count": 11,
   "metadata": {
    "colab": {
     "base_uri": "https://localhost:8080/"
    },
    "id": "WZj9jmrtnG1c",
    "outputId": "f25004a6-efcc-4355-fc7c-f4b395a03408"
   },
   "outputs": [
    {
     "name": "stdout",
     "output_type": "stream",
     "text": [
      "Санкт-Петербу́рг  — второй по численности населения город России. Город федерального значения. Административный центр Северо-Западного федерального округа. Основан 16  мая 1703 года царём Петром I. В 1714—1728 и 1732—1918 годах — столица Российского государства.\n",
      "Назван в честь святого Петра — небесного покровителя царя-основателя, но со временем стал всё больше ассоциироваться с именем самого Петра I. Город исторически и культурно связан с рождением Российской империи и вхождением России в современную историю в роли европейской великой державы.\n",
      "Расположен на северо-западе страны на побережье Финского залива и в устье реки Невы. Граничит с Ленинградской областью, также имеет морские границы с Финляндией и Эстонией.\n",
      "В Санкт-Петербурге находятся: конституционный суд РФ, геральдический совет при президенте РФ, полпредство Северо-Западного федерального округа, органы власти Ленинградской области, межпарламентская ассамблея СНГ. Также размещены: главное командование ВМФ РФ и штаб Западного военного округа ВС РФ.\n",
      "Был центром трёх революций: 1905—1907 годов, Февральской, Октябрьской. В ходе Великой Отечественной войны в 1941—1944 годах 872 дня находился в блокаде, в результате которой погибло около миллиона человек. 1 мая 1945 года Ленинград был объявлен городом-героем. В составе города федерального значения Санкт-Петербурга также находятся 3 города воинской славы: Кронштадт, Колпино и Ломоносов.\n",
      "Население: 5 600 044  человек. Санкт-Петербург — самый северный в мире город с населением более миллиона человек. Также Санкт-Петербург является самым западным городом-миллионником России. Среди городов, полностью расположенных в Европе, он является третьим по населению , а также первым по численности жителей городом, не являющимся столицей.\n"
     ]
    }
   ],
   "source": [
    "print(getwiki('Петербург'))"
   ]
  },
  {
   "cell_type": "code",
   "execution_count": 12,
   "metadata": {},
   "outputs": [
    {
     "name": "stdout",
     "output_type": "stream",
     "text": [
      "В энциклопедии нет информации об этом\n"
     ]
    }
   ],
   "source": [
    "print(getwiki('Похвастаться нечем'))"
   ]
  },
  {
   "cell_type": "code",
   "execution_count": 11,
   "metadata": {},
   "outputs": [
    {
     "name": "stdout",
     "output_type": "stream",
     "text": [
      "В энциклопедии нет информации об этом\n"
     ]
    }
   ],
   "source": [
    "print(getwiki('Создать чат бот'))"
   ]
  },
  {
   "cell_type": "markdown",
   "metadata": {
    "id": "OoLQkuICb8t_"
   },
   "source": [
    "# Bot"
   ]
  },
  {
   "cell_type": "code",
   "execution_count": 13,
   "metadata": {
    "colab": {
     "base_uri": "https://localhost:8080/"
    },
    "id": "cCSOWNUIr8hA",
    "outputId": "c5734db8-c987-4846-9bc4-0e491bdb7632"
   },
   "outputs": [
    {
     "name": "stdout",
     "output_type": "stream",
     "text": [
      "Requirement already satisfied: pytelegrambotapi in c:\\users\\hozyain\\.conda\\envs\\nlp39\\lib\\site-packages (4.14.1)\n",
      "Requirement already satisfied: requests in c:\\users\\hozyain\\.conda\\envs\\nlp39\\lib\\site-packages (from pytelegrambotapi) (2.26.0)\n",
      "Requirement already satisfied: urllib3<1.27,>=1.21.1 in c:\\users\\hozyain\\.conda\\envs\\nlp39\\lib\\site-packages (from requests->pytelegrambotapi) (1.26.18)\n",
      "Requirement already satisfied: certifi>=2017.4.17 in c:\\users\\hozyain\\.conda\\envs\\nlp39\\lib\\site-packages (from requests->pytelegrambotapi) (2023.11.17)\n",
      "Requirement already satisfied: charset-normalizer~=2.0.0 in c:\\users\\hozyain\\.conda\\envs\\nlp39\\lib\\site-packages (from requests->pytelegrambotapi) (2.0.4)\n",
      "Requirement already satisfied: idna<4,>=2.5 in c:\\users\\hozyain\\.conda\\envs\\nlp39\\lib\\site-packages (from requests->pytelegrambotapi) (3.4)\n"
     ]
    }
   ],
   "source": [
    "!pip install pytelegrambotapi"
   ]
  },
  {
   "cell_type": "code",
   "execution_count": 14,
   "metadata": {
    "id": "MdmxBx-rEBvt"
   },
   "outputs": [],
   "source": [
    "history_dialog = []\n",
    "\n",
    "def babbler(text):\n",
    "    global history_dialog\n",
    "\n",
    "    history_dialog.append(text)\n",
    "    history_dialog.append(respond_to_dialog(history_dialog[-10:]))\n",
    "    if len(history_dialog) > 10: history_dialog = history_dialog[-10:]\n",
    "    \n",
    "    return history_dialog[-1]"
   ]
  },
  {
   "cell_type": "code",
   "execution_count": null,
   "metadata": {
    "id": "BJNBeKlgr7OI"
   },
   "outputs": [],
   "source": [
    "import telebot\n",
    "from telebot import types\n",
    "\n",
    "# Создаем экземпляр бота\n",
    "bot = telebot.TeleBot(\"6731295745:AAGO9xGZjfMemAe3ui8xwADSbUxtqvhaVJg\")\n",
    "\n",
    "# Функция, обрабатывающая команду /start\n",
    "@bot.message_handler(commands=['start'])\n",
    "def start(message):\n",
    "    markup = types.ReplyKeyboardMarkup(resize_keyboard=True)\n",
    "    btn1 = types.KeyboardButton(\"Привет\")\n",
    "    markup.add(btn1)\n",
    "    bot.send_message(message.chat.id, \"👋 Привет! Я твой бот-помошник!\", reply_markup=markup)\n",
    "\n",
    "Flag = 0\n",
    "@bot.callback_query_handler(func=lambda call: True)\n",
    "def callback_worker(call):\n",
    "    global Flag\n",
    "    # Если нажали на одну из кнопок\n",
    "    if call.data.lower() == 'поболтаем': \n",
    "        Flag = 1\n",
    "        bot.send_message(call.message.chat.id, 'О чём ты хочешь побалтать?')\n",
    "    if call.data.lower() == 'бот-всезнайка': \n",
    "        Flag = 2\n",
    "        bot.send_message(call.message.chat.id, 'О чём тебе расказать?')\n",
    "\n",
    "\n",
    "# Получение сообщений от пользователя\n",
    "@bot.message_handler(content_types=[\"text\"])\n",
    "def handle_text(message):\n",
    "    global Flag\n",
    "    \n",
    "    if message.text.lower() == 'привет': Flag = 0\n",
    "    \n",
    "\n",
    "    if Flag == 0:# or message.text == 'Назад':\n",
    "        # Готовим кнопки\n",
    "        keyboard = types.InlineKeyboardMarkup()\n",
    "        # И добавляем кнопку на экран\n",
    "        key_oven = types.InlineKeyboardButton(text='Поболтаем', callback_data='поболтаем')\n",
    "        # И добавляем кнопку на экран\n",
    "        keyboard.add(key_oven)\n",
    "        key_telec = types.InlineKeyboardButton(text='Бот-всезнайка', callback_data='бот-всезнайка')\n",
    "        keyboard.add(key_telec)\n",
    "        # Показываем все кнопки сразу и пишем сообщение о выборе\n",
    "        bot.send_message(message.chat.id, text='Сделайте выбор', reply_markup=keyboard)\n",
    "    \n",
    "    elif Flag == 1:\n",
    "        bot.send_message(message.chat.id, babbler(message.text))\n",
    "    \n",
    "    elif Flag == 2:\n",
    "        bot.send_message(message.chat.id, getwiki(message.text))\n",
    "\n",
    "\n",
    "# Запускаем бота\n",
    "bot.polling(none_stop=True, interval=0)"
   ]
  },
  {
   "cell_type": "code",
   "execution_count": null,
   "metadata": {},
   "outputs": [],
   "source": []
  },
  {
   "cell_type": "code",
   "execution_count": null,
   "metadata": {},
   "outputs": [],
   "source": []
  }
 ],
 "metadata": {
  "colab": {
   "provenance": []
  },
  "gpuClass": "standard",
  "kernelspec": {
   "display_name": "Python 3 (ipykernel)",
   "language": "python",
   "name": "python3"
  },
  "language_info": {
   "codemirror_mode": {
    "name": "ipython",
    "version": 3
   },
   "file_extension": ".py",
   "mimetype": "text/x-python",
   "name": "python",
   "nbconvert_exporter": "python",
   "pygments_lexer": "ipython3",
   "version": "3.9.18"
  }
 },
 "nbformat": 4,
 "nbformat_minor": 4
}
